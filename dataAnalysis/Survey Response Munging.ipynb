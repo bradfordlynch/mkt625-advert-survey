{
 "cells": [
  {
   "cell_type": "code",
   "execution_count": 106,
   "metadata": {
    "collapsed": false
   },
   "outputs": [],
   "source": [
    "import pandas as pd\n",
    "import numpy as np\n",
    "import json\n",
    "import ast\n",
    "\n",
    "%matplotlib inline"
   ]
  },
  {
   "cell_type": "code",
   "execution_count": 107,
   "metadata": {
    "collapsed": true
   },
   "outputs": [],
   "source": [
    "follow_up_ques = {\n",
    "    'fu_ques_0':'Do you use ad blocking software on your computer?',\n",
    "    'fu_ques_1':'How relevant was the ad to you?',\n",
    "    'fu_ques_2':'Do you generally find that ads are relevant to you?',\n",
    "    'fu_ques_3':'How important is it to you that ads help you find products you are interested in?',\n",
    "    'fu_ques_4':'Did the ad you saw help you find a product you are interested in?',\n",
    "    'fu_ques_5':'Do you think this ad technology can reliably help you find products you are interested in?',\n",
    "    'fu_ques_6':'Do you have a smart phone?',\n",
    "    'fu_ques_7':'How often do you make purchases using your mobile phone?',\n",
    "    'fu_ques_8':'How often do you make purchases using your computer?'\n",
    "}\n",
    "\n",
    "profile_ques = {\n",
    "    'pro_ques_0':'What is your age?',\n",
    "    'pro_ques_1':'What is your gender?',\n",
    "    'pro_ques_2':'What type of environment do you most identify with?'\n",
    "}"
   ]
  },
  {
   "cell_type": "code",
   "execution_count": 108,
   "metadata": {
    "collapsed": false
   },
   "outputs": [],
   "source": [
    "rawData = open('surveyResponses.json').read().split('\\n')[:-1]\n",
    "surveyResponses = [ json.loads(res) for res in rawData ]"
   ]
  },
  {
   "cell_type": "markdown",
   "metadata": {},
   "source": [
    "### Process Mouse Movement"
   ]
  },
  {
   "cell_type": "code",
   "execution_count": 109,
   "metadata": {
    "collapsed": false
   },
   "outputs": [],
   "source": [
    "def calcDist(x, y):\n",
    "    #assert len(x) == len(y), 'Length of mouse movements must be equal'\n",
    "    if len(x) != len(y):\n",
    "        return np.nan\n",
    "    \n",
    "    dist = 0\n",
    "    for i in range(2, len(x)):\n",
    "        dist += np.sqrt((x[i] - x[i-1])**2 + (y[i] - y[i-1])**2)\n",
    "        \n",
    "    return dist"
   ]
  },
  {
   "cell_type": "code",
   "execution_count": 110,
   "metadata": {
    "collapsed": false
   },
   "outputs": [],
   "source": [
    "for response in surveyResponses:\n",
    "    if 'mouse_x_pos' in response.keys():\n",
    "        response['mouse_x_pos'] = [float(num) for num in response['mouse_x_pos'].split(',')]\n",
    "        response['mouse_y_pos'] = [float(num) for num in response['mouse_y_pos'].split(',')]\n",
    "        response['dist'] = calcDist(response['mouse_x_pos'], response['mouse_y_pos'])\n",
    "    else:\n",
    "        response['dist'] = np.nan"
   ]
  },
  {
   "cell_type": "markdown",
   "metadata": {},
   "source": [
    "### Process Responses"
   ]
  },
  {
   "cell_type": "code",
   "execution_count": 112,
   "metadata": {
    "collapsed": true
   },
   "outputs": [],
   "source": [
    "def processQuestions(response):\n",
    "    ad_cats = ast.literal_eval(response['ad_cats'])\n",
    "    products = ast.literal_eval(response['products'])\n",
    "    follow_ups = response['follow_up'].strip('{}').split(',')[:-1]\n",
    "    follow_ups = dict([('fu_'+ques).split(':') for ques in follow_ups])\n",
    "    for key in follow_ups:\n",
    "        if ' - ' in follow_ups[key]:\n",
    "            follow_ups[key] = follow_ups[key].split(' - ')[0]\n",
    "    profile = response['profile'].strip('{}').split(',')[:-1]\n",
    "    profile = dict([('pro_'+ques).split(':') for ques in profile])\n",
    "    \n",
    "    return {**ad_cats, **products,  **follow_ups, **profile}"
   ]
  },
  {
   "cell_type": "code",
   "execution_count": 113,
   "metadata": {
    "collapsed": true
   },
   "outputs": [],
   "source": [
    "keysToKeep = ['date', 'ad', 'ad_type', 'primed', 'browser_size', 'dist', 'result']\n",
    "otherKeys = list(processQuestions(surveyResponses[90]).keys())\n",
    "otherKeys.sort()"
   ]
  },
  {
   "cell_type": "code",
   "execution_count": 114,
   "metadata": {
    "collapsed": false
   },
   "outputs": [],
   "source": [
    "flattened = {}\n",
    "\n",
    "for res in surveyResponses:\n",
    "    if 'profile' in res.keys():\n",
    "    \n",
    "        resID = res['__key__']['id']\n",
    "        resData = {}\n",
    "\n",
    "        for key in keysToKeep:\n",
    "            try:\n",
    "                resData[key] = res[key]\n",
    "            except KeyError:\n",
    "                resData[key] = 'NA'\n",
    "\n",
    "        ques = processQuestions(res)\n",
    "\n",
    "        flattened[resID] = {**resData, **ques}\n",
    "    "
   ]
  },
  {
   "cell_type": "code",
   "execution_count": 115,
   "metadata": {
    "collapsed": false
   },
   "outputs": [],
   "source": [
    "data = pd.DataFrame.from_dict(flattened, orient='index')[keysToKeep + otherKeys]\n",
    "\n",
    "origCols = list(data.columns)\n",
    "\n",
    "for i in range(len(origCols)):\n",
    "    if origCols[i] in follow_up_ques.keys():\n",
    "        origCols[i] = follow_up_ques[origCols[i]]\n",
    "    elif origCols[i] in profile_ques.keys():\n",
    "        origCols[i] = profile_ques[origCols[i]]\n",
    "        \n",
    "data.columns = origCols"
   ]
  },
  {
   "cell_type": "code",
   "execution_count": 116,
   "metadata": {
    "collapsed": true
   },
   "outputs": [],
   "source": [
    "data.to_csv('surveyResponses.csv')"
   ]
  },
  {
   "cell_type": "code",
   "execution_count": 27,
   "metadata": {
    "collapsed": false
   },
   "outputs": [
    {
     "data": {
      "text/plain": [
       "Index(['date', 'ad', 'ad_type', 'primed', 'browser_size', 'dist', 'Air Travel',\n",
       "       'Eyewear', 'Food and Drinks', 'Headphones', 'Men's Fashion',\n",
       "       'None of the above', 'None of these products', 'Soda', 'TV Shows',\n",
       "       'Women's Fashion', 'Do you use ad blocking software on your computer?',\n",
       "       'How relevant was the ad to you?',\n",
       "       'Do you generally find that ads are relevant to you?',\n",
       "       'How important is it to you that ads help you find products you are interested in?',\n",
       "       'Did the ad you saw help you find a product you are interested in?',\n",
       "       'Do you think this ad technology can reliably help you find products you are interested in?',\n",
       "       'Do you have a smart phone?',\n",
       "       'How often do you make purchases using your mobile phone?',\n",
       "       'How often do you make purchases using your computer?',\n",
       "       'What is your age?', 'What is your gender?',\n",
       "       'What type of environment do you most identify with?'],\n",
       "      dtype='object')"
      ]
     },
     "execution_count": 27,
     "metadata": {},
     "output_type": "execute_result"
    }
   ],
   "source": [
    "data.columns"
   ]
  },
  {
   "cell_type": "markdown",
   "metadata": {},
   "source": [
    "## Summarize Data"
   ]
  },
  {
   "cell_type": "code",
   "execution_count": 120,
   "metadata": {
    "collapsed": true
   },
   "outputs": [],
   "source": [
    "data['val'] = 1"
   ]
  },
  {
   "cell_type": "markdown",
   "metadata": {},
   "source": [
    "#### CTR"
   ]
  },
  {
   "cell_type": "code",
   "execution_count": 146,
   "metadata": {
    "collapsed": false
   },
   "outputs": [],
   "source": [
    "click = []\n",
    "\n",
    "for i in data.index:\n",
    "    if data.loc[i, 'result'] == 'skip':\n",
    "        click.append(False)\n",
    "    else:\n",
    "        click.append(True)\n",
    "\n",
    "data['click'] = click\n",
    "\n",
    "dataCounts = data[['ad_type', 'val']].groupby(['ad_type']).count()\n",
    "ctrByAdType = data[['ad_type','result', 'val']].groupby(['ad_type', 'result']).count()/dataCounts"
   ]
  },
  {
   "cell_type": "code",
   "execution_count": 147,
   "metadata": {
    "collapsed": false
   },
   "outputs": [
    {
     "data": {
      "text/html": [
       "<div>\n",
       "<table border=\"1\" class=\"dataframe\">\n",
       "  <thead>\n",
       "    <tr style=\"text-align: right;\">\n",
       "      <th></th>\n",
       "      <th></th>\n",
       "      <th>val</th>\n",
       "    </tr>\n",
       "    <tr>\n",
       "      <th>ad_type</th>\n",
       "      <th>result</th>\n",
       "      <th></th>\n",
       "    </tr>\n",
       "  </thead>\n",
       "  <tbody>\n",
       "    <tr>\n",
       "      <th rowspan=\"4\" valign=\"top\">new</th>\n",
       "      <th>fashion</th>\n",
       "      <td>0.018868</td>\n",
       "    </tr>\n",
       "    <tr>\n",
       "      <th>main_ad</th>\n",
       "      <td>0.232704</td>\n",
       "    </tr>\n",
       "    <tr>\n",
       "      <th>skip</th>\n",
       "      <td>0.716981</td>\n",
       "    </tr>\n",
       "    <tr>\n",
       "      <th>soda</th>\n",
       "      <td>0.031447</td>\n",
       "    </tr>\n",
       "    <tr>\n",
       "      <th rowspan=\"2\" valign=\"top\">old</th>\n",
       "      <th>main_ad</th>\n",
       "      <td>0.243243</td>\n",
       "    </tr>\n",
       "    <tr>\n",
       "      <th>skip</th>\n",
       "      <td>0.756757</td>\n",
       "    </tr>\n",
       "  </tbody>\n",
       "</table>\n",
       "</div>"
      ],
      "text/plain": [
       "                      val\n",
       "ad_type result           \n",
       "new     fashion  0.018868\n",
       "        main_ad  0.232704\n",
       "        skip     0.716981\n",
       "        soda     0.031447\n",
       "old     main_ad  0.243243\n",
       "        skip     0.756757"
      ]
     },
     "execution_count": 147,
     "metadata": {},
     "output_type": "execute_result"
    }
   ],
   "source": [
    "ctrByAdType"
   ]
  },
  {
   "cell_type": "code",
   "execution_count": 141,
   "metadata": {
    "collapsed": false
   },
   "outputs": [
    {
     "data": {
      "text/html": [
       "<div>\n",
       "<table border=\"1\" class=\"dataframe\">\n",
       "  <thead>\n",
       "    <tr style=\"text-align: right;\">\n",
       "      <th></th>\n",
       "      <th></th>\n",
       "      <th>val</th>\n",
       "    </tr>\n",
       "    <tr>\n",
       "      <th>ad</th>\n",
       "      <th>ad_type</th>\n",
       "      <th></th>\n",
       "    </tr>\n",
       "  </thead>\n",
       "  <tbody>\n",
       "    <tr>\n",
       "      <th rowspan=\"2\" valign=\"top\">Air Travel</th>\n",
       "      <th>new</th>\n",
       "      <td>47</td>\n",
       "    </tr>\n",
       "    <tr>\n",
       "      <th>old</th>\n",
       "      <td>25</td>\n",
       "    </tr>\n",
       "    <tr>\n",
       "      <th rowspan=\"2\" valign=\"top\">Food and Drinks</th>\n",
       "      <th>new</th>\n",
       "      <td>46</td>\n",
       "    </tr>\n",
       "    <tr>\n",
       "      <th>old</th>\n",
       "      <td>26</td>\n",
       "    </tr>\n",
       "    <tr>\n",
       "      <th rowspan=\"2\" valign=\"top\">TV Shows</th>\n",
       "      <th>new</th>\n",
       "      <td>66</td>\n",
       "    </tr>\n",
       "    <tr>\n",
       "      <th>old</th>\n",
       "      <td>23</td>\n",
       "    </tr>\n",
       "  </tbody>\n",
       "</table>\n",
       "</div>"
      ],
      "text/plain": [
       "                         val\n",
       "ad              ad_type     \n",
       "Air Travel      new       47\n",
       "                old       25\n",
       "Food and Drinks new       46\n",
       "                old       26\n",
       "TV Shows        new       66\n",
       "                old       23"
      ]
     },
     "execution_count": 141,
     "metadata": {},
     "output_type": "execute_result"
    }
   ],
   "source": [
    "dataCounts"
   ]
  },
  {
   "cell_type": "code",
   "execution_count": 130,
   "metadata": {
    "collapsed": false
   },
   "outputs": [
    {
     "data": {
      "text/html": [
       "<div>\n",
       "<table border=\"1\" class=\"dataframe\">\n",
       "  <thead>\n",
       "    <tr style=\"text-align: right;\">\n",
       "      <th></th>\n",
       "      <th></th>\n",
       "      <th>val</th>\n",
       "    </tr>\n",
       "    <tr>\n",
       "      <th>ad_type</th>\n",
       "      <th>click</th>\n",
       "      <th></th>\n",
       "    </tr>\n",
       "  </thead>\n",
       "  <tbody>\n",
       "    <tr>\n",
       "      <th rowspan=\"2\" valign=\"top\">new</th>\n",
       "      <th>False</th>\n",
       "      <td>114</td>\n",
       "    </tr>\n",
       "    <tr>\n",
       "      <th>True</th>\n",
       "      <td>45</td>\n",
       "    </tr>\n",
       "    <tr>\n",
       "      <th rowspan=\"2\" valign=\"top\">old</th>\n",
       "      <th>False</th>\n",
       "      <td>56</td>\n",
       "    </tr>\n",
       "    <tr>\n",
       "      <th>True</th>\n",
       "      <td>18</td>\n",
       "    </tr>\n",
       "  </tbody>\n",
       "</table>\n",
       "</div>"
      ],
      "text/plain": [
       "               val\n",
       "ad_type click     \n",
       "new     False  114\n",
       "        True    45\n",
       "old     False   56\n",
       "        True    18"
      ]
     },
     "execution_count": 130,
     "metadata": {},
     "output_type": "execute_result"
    }
   ],
   "source": [
    "ctrByAdType"
   ]
  },
  {
   "cell_type": "markdown",
   "metadata": {},
   "source": [
    "#### Quadrant Summaries"
   ]
  },
  {
   "cell_type": "code",
   "execution_count": 45,
   "metadata": {
    "collapsed": false
   },
   "outputs": [],
   "source": [
    "imp_eff_cols = ['How important is it to you that ads help you find products you are interested in?',\n",
    "        'Did the ad you saw help you find a product you are interested in?']\n",
    "data['Imp-Eff Grp'] = data[imp_eff_cols[0]].astype(str) + data[imp_eff_cols[1]].astype(str)"
   ]
  },
  {
   "cell_type": "code",
   "execution_count": 44,
   "metadata": {
    "collapsed": true
   },
   "outputs": [],
   "source": [
    "imp_bel_cols = ['How important is it to you that ads help you find products you are interested in?',\n",
    "        'Do you think this ad technology can reliably help you find products you are interested in?']\n",
    "data['Imp-Bel Grp'] = data[imp_bel_cols[0]].astype(str) + data[imp_bel_cols[1]].astype(str)"
   ]
  },
  {
   "cell_type": "code",
   "execution_count": 99,
   "metadata": {
    "collapsed": false
   },
   "outputs": [],
   "source": [
    "distGrp = []\n",
    "\n",
    "for i in data.index:\n",
    "    if (data.loc[i,'ad_type'] == 'new') and data.loc[i,'primed']:\n",
    "        distGrp.append(1)\n",
    "    elif (data.loc[i,'ad_type'] == 'old') and (not data.loc[i,'primed']):\n",
    "        distGrp.append(1)\n",
    "    else:\n",
    "        distGrp.append(0)\n",
    "        \n",
    "data['Dist Grp'] = distGrp"
   ]
  },
  {
   "cell_type": "code",
   "execution_count": 102,
   "metadata": {
    "collapsed": false
   },
   "outputs": [],
   "source": [
    "dataForScatter = data.loc[data['Dist Grp'] == 1]\n",
    "dataCounts = dataForScatter[['ad_type', 'val']].groupby('ad_type').count()\n",
    "grouping = data[imp_eff_cols + ['ad_type', 'val']].groupby(imp_eff_cols + ['ad_type']).count()\n",
    "fracGrouping = grouping/dataCounts\n",
    "fracGrouping.reset_index(inplace=True)\n",
    "fracGrouping['Imp-Eff Grp'] = fracGrouping[imp_eff_cols[0]].astype(str) + fracGrouping[imp_eff_cols[1]].astype(str)"
   ]
  },
  {
   "cell_type": "code",
   "execution_count": 103,
   "metadata": {
    "collapsed": false
   },
   "outputs": [],
   "source": [
    "fracGrouping.to_csv('impEffResults.csv')"
   ]
  },
  {
   "cell_type": "code",
   "execution_count": 104,
   "metadata": {
    "collapsed": false
   },
   "outputs": [],
   "source": [
    "dataForScatter = data.loc[data['Dist Grp'] == 1]\n",
    "dataCounts = dataForScatter[['ad_type', 'val']].groupby('ad_type').count()\n",
    "grouping = data[imp_bel_cols + ['ad_type', 'val']].groupby(imp_bel_cols + ['ad_type']).count()\n",
    "fracGrouping = grouping/dataCounts\n",
    "fracGrouping.reset_index(inplace=True)\n",
    "fracGrouping['Imp-Bel Grp'] = fracGrouping[imp_bel_cols[0]].astype(str) + fracGrouping[imp_bel_cols[1]].astype(str)\n",
    "fracGrouping.to_csv('impBelResults.csv')"
   ]
  },
  {
   "cell_type": "code",
   "execution_count": 98,
   "metadata": {
    "collapsed": false
   },
   "outputs": [
    {
     "data": {
      "text/html": [
       "<div>\n",
       "<table border=\"1\" class=\"dataframe\">\n",
       "  <thead>\n",
       "    <tr style=\"text-align: right;\">\n",
       "      <th></th>\n",
       "      <th>val</th>\n",
       "    </tr>\n",
       "    <tr>\n",
       "      <th>ad_type</th>\n",
       "      <th></th>\n",
       "    </tr>\n",
       "  </thead>\n",
       "  <tbody>\n",
       "    <tr>\n",
       "      <th>new</th>\n",
       "      <td>77</td>\n",
       "    </tr>\n",
       "    <tr>\n",
       "      <th>old</th>\n",
       "      <td>74</td>\n",
       "    </tr>\n",
       "  </tbody>\n",
       "</table>\n",
       "</div>"
      ],
      "text/plain": [
       "         val\n",
       "ad_type     \n",
       "new       77\n",
       "old       74"
      ]
     },
     "execution_count": 98,
     "metadata": {},
     "output_type": "execute_result"
    }
   ],
   "source": [
    "dataCounts"
   ]
  },
  {
   "cell_type": "code",
   "execution_count": null,
   "metadata": {
    "collapsed": true
   },
   "outputs": [],
   "source": []
  },
  {
   "cell_type": "code",
   "execution_count": null,
   "metadata": {
    "collapsed": true
   },
   "outputs": [],
   "source": []
  },
  {
   "cell_type": "code",
   "execution_count": null,
   "metadata": {
    "collapsed": true
   },
   "outputs": [],
   "source": []
  },
  {
   "cell_type": "code",
   "execution_count": null,
   "metadata": {
    "collapsed": true
   },
   "outputs": [],
   "source": []
  },
  {
   "cell_type": "code",
   "execution_count": null,
   "metadata": {
    "collapsed": true
   },
   "outputs": [],
   "source": []
  },
  {
   "cell_type": "code",
   "execution_count": null,
   "metadata": {
    "collapsed": true
   },
   "outputs": [],
   "source": []
  },
  {
   "cell_type": "code",
   "execution_count": null,
   "metadata": {
    "collapsed": true
   },
   "outputs": [],
   "source": []
  },
  {
   "cell_type": "code",
   "execution_count": null,
   "metadata": {
    "collapsed": true
   },
   "outputs": [],
   "source": []
  },
  {
   "cell_type": "code",
   "execution_count": null,
   "metadata": {
    "collapsed": true
   },
   "outputs": [],
   "source": []
  }
 ],
 "metadata": {
  "anaconda-cloud": {},
  "kernelspec": {
   "display_name": "Python [default]",
   "language": "python",
   "name": "python3"
  },
  "language_info": {
   "codemirror_mode": {
    "name": "ipython",
    "version": 3
   },
   "file_extension": ".py",
   "mimetype": "text/x-python",
   "name": "python",
   "nbconvert_exporter": "python",
   "pygments_lexer": "ipython3",
   "version": "3.5.2"
  }
 },
 "nbformat": 4,
 "nbformat_minor": 1
}
