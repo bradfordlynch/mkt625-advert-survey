{
 "cells": [
  {
   "cell_type": "code",
   "execution_count": 63,
   "metadata": {
    "collapsed": false
   },
   "outputs": [],
   "source": [
    "import pandas as pd\n",
    "import numpy as np\n",
    "import json\n",
    "import ast"
   ]
  },
  {
   "cell_type": "code",
   "execution_count": 141,
   "metadata": {
    "collapsed": true
   },
   "outputs": [],
   "source": [
    "follow_up_ques = {\n",
    "    'fu_ques_0':'Do you use ad blocking software on your computer?',\n",
    "    'fu_ques_1':'How relevant was the ad to you?',\n",
    "    'fu_ques_2':'Do you generally find that ads are relevant to you?',\n",
    "    'fu_ques_3':'How important is it to you that ads help you find products you are interested in?',\n",
    "    'fu_ques_4':'Did the ad you saw help you find a product you are interested in?',\n",
    "    'fu_ques_5':'Do you think this ad technology can reliably help you find products you are interested in?',\n",
    "    'fu_ques_6':'Do you have a smart phone?',\n",
    "    'fu_ques_7':'How often do you make purchases using your mobile phone?',\n",
    "    'fu_ques_8':'How often do you make purchases using your computer?'\n",
    "}\n",
    "\n",
    "profile_ques = {\n",
    "    'pro_ques_0':'What is your age?',\n",
    "    'pro_ques_1':'What is your gender?',\n",
    "    'pro_ques_2':'What type of environment do you most identify with?'\n",
    "}"
   ]
  },
  {
   "cell_type": "code",
   "execution_count": 58,
   "metadata": {
    "collapsed": false
   },
   "outputs": [],
   "source": [
    "rawData = open('surveyResponses.json').read().split('\\n')[:-1]\n",
    "surveyResponses = [ json.loads(res) for res in rawData ]"
   ]
  },
  {
   "cell_type": "markdown",
   "metadata": {},
   "source": [
    "### Process Mouse Movement"
   ]
  },
  {
   "cell_type": "code",
   "execution_count": 52,
   "metadata": {
    "collapsed": false
   },
   "outputs": [],
   "source": [
    "def calcDist(x, y):\n",
    "    #assert len(x) == len(y), 'Length of mouse movements must be equal'\n",
    "    if len(x) != len(y):\n",
    "        return np.nan\n",
    "    \n",
    "    dist = 0\n",
    "    for i in range(2, len(x)):\n",
    "        dist += np.sqrt((x[i] - x[i-1])**2 + (y[i] - y[i-1])**2)\n",
    "        \n",
    "    return dist"
   ]
  },
  {
   "cell_type": "code",
   "execution_count": 60,
   "metadata": {
    "collapsed": false
   },
   "outputs": [],
   "source": [
    "for response in surveyResponses:\n",
    "    if 'mouse_x_pos' in response.keys():\n",
    "        response['mouse_x_pos'] = [float(num) for num in response['mouse_x_pos'].split(',')]\n",
    "        response['mouse_y_pos'] = [float(num) for num in response['mouse_y_pos'].split(',')]\n",
    "        response['dist'] = calcDist(response['mouse_x_pos'], response['mouse_y_pos'])\n",
    "    else:\n",
    "        response['dist'] = np.nan"
   ]
  },
  {
   "cell_type": "markdown",
   "metadata": {},
   "source": [
    "### Process Responses"
   ]
  },
  {
   "cell_type": "code",
   "execution_count": 133,
   "metadata": {
    "collapsed": true
   },
   "outputs": [],
   "source": [
    "def processQuestions(response):\n",
    "    ad_cats = ast.literal_eval(response['ad_cats'])\n",
    "    products = ast.literal_eval(response['products'])\n",
    "    follow_ups = response['follow_up'].strip('{}').split(',')[:-1]\n",
    "    follow_ups = dict([('fu_'+ques).split(':') for ques in follow_ups])\n",
    "    for key in follow_ups:\n",
    "        if ' - ' in follow_ups[key]:\n",
    "            follow_ups[key] = follow_ups[key].split(' - ')[0]\n",
    "    profile = response['profile'].strip('{}').split(',')[:-1]\n",
    "    profile = dict([('pro_'+ques).split(':') for ques in profile])\n",
    "    \n",
    "    return {**ad_cats, **products,  **follow_ups, **profile}"
   ]
  },
  {
   "cell_type": "code",
   "execution_count": 134,
   "metadata": {
    "collapsed": true
   },
   "outputs": [],
   "source": [
    "keysToKeep = ['date', 'ad', 'ad_type', 'primed', 'browser_size', 'dist']\n",
    "otherKeys = list(processQuestions(surveyResponses[90]).keys())\n",
    "otherKeys.sort()"
   ]
  },
  {
   "cell_type": "code",
   "execution_count": 135,
   "metadata": {
    "collapsed": false
   },
   "outputs": [],
   "source": [
    "flattened = {}\n",
    "\n",
    "for res in surveyResponses:\n",
    "    if 'profile' in res.keys():\n",
    "    \n",
    "        resID = res['__key__']['id']\n",
    "        resData = {}\n",
    "\n",
    "        for key in keysToKeep:\n",
    "            try:\n",
    "                resData[key] = res[key]\n",
    "            except KeyError:\n",
    "                resData[key] = 'NA'\n",
    "\n",
    "        ques = processQuestions(res)\n",
    "\n",
    "        flattened[resID] = {**resData, **ques}\n",
    "    "
   ]
  },
  {
   "cell_type": "code",
   "execution_count": 145,
   "metadata": {
    "collapsed": false
   },
   "outputs": [],
   "source": [
    "data = pd.DataFrame.from_dict(flattened, orient='index')[keysToKeep + otherKeys]\n",
    "\n",
    "origCols = list(data.columns)\n",
    "\n",
    "for i in range(len(origCols)):\n",
    "    if origCols[i] in follow_up_ques.keys():\n",
    "        origCols[i] = follow_up_ques[origCols[i]]\n",
    "    elif origCols[i] in profile_ques.keys():\n",
    "        origCols[i] = profile_ques[origCols[i]]\n",
    "        \n",
    "data.columns = origCols"
   ]
  },
  {
   "cell_type": "code",
   "execution_count": 148,
   "metadata": {
    "collapsed": true
   },
   "outputs": [],
   "source": [
    "data.to_csv('surveyResponses.csv')"
   ]
  }
 ],
 "metadata": {
  "anaconda-cloud": {},
  "kernelspec": {
   "display_name": "Python [default]",
   "language": "python",
   "name": "python3"
  },
  "language_info": {
   "codemirror_mode": {
    "name": "ipython",
    "version": 3
   },
   "file_extension": ".py",
   "mimetype": "text/x-python",
   "name": "python",
   "nbconvert_exporter": "python",
   "pygments_lexer": "ipython3",
   "version": "3.5.2"
  }
 },
 "nbformat": 4,
 "nbformat_minor": 1
}
